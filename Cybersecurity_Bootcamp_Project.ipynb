{
  "nbformat": 4,
  "nbformat_minor": 0,
  "metadata": {
    "colab": {
      "name": "Cybersecurity Bootcamp Project.ipynb",
      "provenance": [],
      "collapsed_sections": []
    },
    "kernelspec": {
      "name": "python3",
      "display_name": "Python 3"
    },
    "language_info": {
      "name": "python"
    }
  },
  "cells": [
    {
      "cell_type": "code",
      "metadata": {
        "colab": {
          "base_uri": "https://localhost:8080/"
        },
        "id": "byTTI09FSTql",
        "outputId": "7623ef70-9ed3-4db5-9ebc-8b18e72903bf"
      },
      "source": [
        "import requests\n",
        "\n",
        "api_key = '444b3d1cd0da4896a7a02876a662aaf5'\n",
        "city_name = input(\"Enter The Name of The City :  \")\n",
        "\n",
        "complete_api_link =\"https://api.openweathermap.org/data/2.5/weather?q=\"+city_name+\"&appid=\"+api_key\n",
        "api_link = requests.get(complete_api_link)\n",
        "api_data = api_link.json()\n",
        "\n",
        "temperature = ((api_data['main']['temp']) - 273.15)\n",
        "weather_desc = api_data['weather'][0]['description']\n",
        "humidity = api_data['main']['humidity']\n",
        "wind_speed = api_data['wind']['speed']\n",
        "\n",
        "print(\"-------------------------------------\")\n",
        "print(\"Weather Status for \"+city_name.upper())\n",
        "print(\"-------------------------------------\")\n",
        "\n",
        "print(\"Current Temperature is     : {:.2f} Degree Celsius\".format(temperature))\n",
        "print(\"Current Weather Description:\",weather_desc)\n",
        "print(\"Current Humidity           :\",humidity,\"%\")\n",
        "print(\"Current Wind Speed         :\",wind_speed,\"KMph\")\n",
        "\n",
        "with open(\"Cybersecurity Bootcamp Project.txt\",\"w\") as f:\n",
        "  f.write(\"-------------------------------------\")\n",
        "  f.write(\"\\nWeather Status for \"+ city_name.upper())\n",
        "  f.write(\"\\n-------------------------------------\")\n",
        "  f.write(\"\\nCurrent Temperature is     : {:.2f} Degree Celsius\".format(temperature))\n",
        "  f.write(\"\\nCurrent Weather Description:\" +weather_desc)\n",
        "  f.write(\"\\nCurrent Humidity           :\" +str(humidity)+\"%\")\n",
        "  f.write(\"\\nCurrent Wind Speed         :\" +str(wind_speed)+\"KMph\")\n",
        "f.close"
      ],
      "execution_count": 2,
      "outputs": [
        {
          "output_type": "stream",
          "text": [
            "Enter The Name of The City :  kattappana\n",
            "-------------------------------------\n",
            "Weather Status for KATTAPPANA\n",
            "-------------------------------------\n",
            "Current Temperature is     : 24.48 Degree Celsius\n",
            "Current Weather Description: overcast clouds\n",
            "Current Humidity           : 67 %\n",
            "Current Wind Speed         : 2.34 KMph\n"
          ],
          "name": "stdout"
        },
        {
          "output_type": "execute_result",
          "data": {
            "text/plain": [
              "<function TextIOWrapper.close>"
            ]
          },
          "metadata": {
            "tags": []
          },
          "execution_count": 2
        }
      ]
    }
  ]
}